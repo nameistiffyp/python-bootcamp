{
 "cells": [
  {
   "cell_type": "code",
   "execution_count": 4,
   "metadata": {},
   "outputs": [],
   "source": [
    "import sys"
   ]
  },
  {
   "cell_type": "code",
   "execution_count": 5,
   "metadata": {},
   "outputs": [],
   "source": [
    "#created function that calls and prints the output of eval()\n",
    "\n",
    "def eval_loop(stringInput):\n",
    "    print(eval(stringInput))"
   ]
  },
  {
   "cell_type": "code",
   "execution_count": 6,
   "metadata": {},
   "outputs": [
    {
     "name": "stdout",
     "output_type": "stream",
     "text": [
      "What do you want to evaluate?6*2\n",
      "12\n",
      "None\n"
     ]
    }
   ],
   "source": [
    "def main():\n",
    "    while True:\n",
    "        try:\n",
    "            stringInput = str(input(\"What do you want to evaluate?\"))\n",
    "            output = eval_loop(stringInput)\n",
    "            print(output)\n",
    "            break\n",
    "        except ValueError:\n",
    "            print(\"Ok! done. Your last output was\", output)\n",
    "            \n",
    "if __name__ == '__main__':\n",
    "    main()"
   ]
  }
 ],
 "metadata": {
  "kernelspec": {
   "display_name": "Python 3",
   "language": "python",
   "name": "python3"
  },
  "language_info": {
   "codemirror_mode": {
    "name": "ipython",
    "version": 3
   },
   "file_extension": ".py",
   "mimetype": "text/x-python",
   "name": "python",
   "nbconvert_exporter": "python",
   "pygments_lexer": "ipython3",
   "version": "3.6.8"
  }
 },
 "nbformat": 4,
 "nbformat_minor": 2
}
