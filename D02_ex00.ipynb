{
 "cells": [
  {
   "cell_type": "code",
   "execution_count": 1,
   "metadata": {},
   "outputs": [],
   "source": [
    "import random\n",
    "import sys"
   ]
  },
  {
   "cell_type": "code",
   "execution_count": 2,
   "metadata": {},
   "outputs": [],
   "source": [
    "#created playGame() function to initiate game play \n",
    "\n",
    "def playGame():\n",
    "    while True: \n",
    "        try: \n",
    "            guess = int(input(\"Guess the number: \"))\n",
    "            break\n",
    "        except ValueError:\n",
    "            print(\"That's not a number! Try again\")\n",
    "    return guess"
   ]
  },
  {
   "cell_type": "code",
   "execution_count": 3,
   "metadata": {},
   "outputs": [],
   "source": [
    "#created compareNumbers() function to compare randomly generated number with inputed guess\n",
    "\n",
    "def compareNumbers(randNum):\n",
    "    guess = playGame()\n",
    "    if  guess < randNum:\n",
    "        print(\"Your guess was too low!\")\n",
    "    elif  guess == randNum:\n",
    "        print(\"Congratulations! You guessed right\")\n",
    "    else:\n",
    "        print(\"Your guess was too high!\")"
   ]
  },
  {
   "cell_type": "code",
   "execution_count": 4,
   "metadata": {},
   "outputs": [
    {
     "name": "stdout",
     "output_type": "stream",
     "text": [
      "18\n",
      "Guess the number: 24\n",
      "Your guess was too high!\n"
     ]
    }
   ],
   "source": [
    "def main():\n",
    "    randNum = random.randint(1,25)\n",
    "    compareNumbers(randNum)\n",
    "    \n",
    "if __name__ == '__main__':\n",
    "    main()"
   ]
  },
  {
   "cell_type": "code",
   "execution_count": null,
   "metadata": {},
   "outputs": [],
   "source": []
  }
 ],
 "metadata": {
  "kernelspec": {
   "display_name": "Python 3",
   "language": "python",
   "name": "python3"
  },
  "language_info": {
   "codemirror_mode": {
    "name": "ipython",
    "version": 3
   },
   "file_extension": ".py",
   "mimetype": "text/x-python",
   "name": "python",
   "nbconvert_exporter": "python",
   "pygments_lexer": "ipython3",
   "version": "3.6.8"
  }
 },
 "nbformat": 4,
 "nbformat_minor": 2
}
