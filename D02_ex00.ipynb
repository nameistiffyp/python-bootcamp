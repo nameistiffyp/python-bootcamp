{
 "cells": [
  {
   "cell_type": "code",
   "execution_count": 97,
   "metadata": {},
   "outputs": [],
   "source": [
    "import random\n",
    "import sys"
   ]
  },
  {
   "cell_type": "code",
   "execution_count": 98,
   "metadata": {},
   "outputs": [],
   "source": [
    "#created compareNumbers() function to compare randomly generated number with inputed guess\n",
    "\n",
    "def compareNumbers(randNum,guess):\n",
    "    if  guess < randNum:\n",
    "        print(\"Your guess was too low!\")\n",
    "    elif  guess == randNum:\n",
    "        print(\"Congratulations! You guessed right\")\n",
    "    else:\n",
    "        print(\"Your guess was too high!\")"
   ]
  },
  {
   "cell_type": "code",
   "execution_count": 99,
   "metadata": {},
   "outputs": [],
   "source": [
    "#created playGame() function to initiate game play \n",
    "\n",
    "def playGame():\n",
    "    while True: \n",
    "        try: \n",
    "            guess = int(input(\"Guess the number: \"))\n",
    "            break\n",
    "        except ValueError:\n",
    "            print(\"That's not a number! Try again\")"
   ]
  },
  {
   "cell_type": "code",
   "execution_count": 100,
   "metadata": {},
   "outputs": [
    {
     "name": "stdout",
     "output_type": "stream",
     "text": [
      "Guess the number: 4\n",
      "Your guess was too low!\n"
     ]
    }
   ],
   "source": [
    "def main():\n",
    "    playGame()\n",
    "    randNum = random.randint(1,25)\n",
    "    compareNumbers(randNum, guess)\n",
    "    \n",
    "if __name__ == '__main__':\n",
    "    main()"
   ]
  },
  {
   "cell_type": "code",
   "execution_count": null,
   "metadata": {},
   "outputs": [],
   "source": []
  }
 ],
 "metadata": {
  "kernelspec": {
   "display_name": "Python 3",
   "language": "python",
   "name": "python3"
  },
  "language_info": {
   "codemirror_mode": {
    "name": "ipython",
    "version": 3
   },
   "file_extension": ".py",
   "mimetype": "text/x-python",
   "name": "python",
   "nbconvert_exporter": "python",
   "pygments_lexer": "ipython3",
   "version": "3.6.8"
  }
 },
 "nbformat": 4,
 "nbformat_minor": 2
}
