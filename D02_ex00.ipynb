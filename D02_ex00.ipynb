{
 "cells": [
  {
   "cell_type": "code",
   "execution_count": 54,
   "metadata": {},
   "outputs": [],
   "source": [
    "import random\n",
    "import sys"
   ]
  },
  {
   "cell_type": "code",
   "execution_count": 55,
   "metadata": {},
   "outputs": [
    {
     "name": "stdout",
     "output_type": "stream",
     "text": [
      "Guess the number: e\n",
      "That's not a number! Try again\n",
      "Guess the number: 7\n",
      "Your guess was too high!\n"
     ]
    }
   ],
   "source": [
    "def compareNumbers(randNum,guess):\n",
    "    if  guess < randNum:\n",
    "        print(\"Your guess was too low!\")\n",
    "    elif  guess == randNum:\n",
    "        print(\"Congratulations! You guessed right\")\n",
    "    else:\n",
    "        print(\"Your guess was too high!\")\n",
    "            \n",
    "while True: \n",
    "    try: \n",
    "        guess = int(input(\"Guess the number: \"))\n",
    "        break\n",
    "    except ValueError:\n",
    "        print(\"That's not a number! Try again\")\n",
    "randNum = random.randint(1,25)\n",
    "compareNumbers(randNum, guess)\n",
    "        "
   ]
  },
  {
   "cell_type": "code",
   "execution_count": 23,
   "metadata": {},
   "outputs": [
    {
     "ename": "IndentationError",
     "evalue": "expected an indented block (<ipython-input-23-0e68bd776b3a>, line 3)",
     "output_type": "error",
     "traceback": [
      "\u001b[0;36m  File \u001b[0;32m\"<ipython-input-23-0e68bd776b3a>\"\u001b[0;36m, line \u001b[0;32m3\u001b[0m\n\u001b[0;31m    if __name__ == '__main__':\u001b[0m\n\u001b[0m     ^\u001b[0m\n\u001b[0;31mIndentationError\u001b[0m\u001b[0;31m:\u001b[0m expected an indented block\n"
     ]
    }
   ],
   "source": [
    "def main():\n",
    "    \n",
    "if __name__ == '__main__':\n",
    "    main()"
   ]
  },
  {
   "cell_type": "code",
   "execution_count": null,
   "metadata": {},
   "outputs": [],
   "source": []
  }
 ],
 "metadata": {
  "kernelspec": {
   "display_name": "Python 3",
   "language": "python",
   "name": "python3"
  },
  "language_info": {
   "codemirror_mode": {
    "name": "ipython",
    "version": 3
   },
   "file_extension": ".py",
   "mimetype": "text/x-python",
   "name": "python",
   "nbconvert_exporter": "python",
   "pygments_lexer": "ipython3",
   "version": "3.6.8"
  }
 },
 "nbformat": 4,
 "nbformat_minor": 2
}
